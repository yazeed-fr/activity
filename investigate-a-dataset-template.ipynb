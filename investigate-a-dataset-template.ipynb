def extract_names_to_string(x):
    """Convert JSON-like string to comma-separated names"""
    if pd.notnull(x):
        try:
            data = ast.literal_eval(x)
            if isinstance(data, list):
                names = [str(item['name']) for item in data 
                        if isinstance(item, dict) and 'name' in item]
                return ', '.join(names)
            elif isinstance(data, dict) and 'name' in data:
                return str(data['name'])
        except (ValueError, SyntaxError, TypeError):
            pass
    return ''

# Columns to process
json_columns = [
    'genres',
    'keywords', 
    'spoken_languages',
    'production_countries',
    'production_companies'
]

# Apply to each column without exploding
for col in json_columns:
    data[col] = data[col].apply(extract_names_to_string)

# Result keeps the same number of rows, with columns now containing comma-separated strings
movies = data.copy()
